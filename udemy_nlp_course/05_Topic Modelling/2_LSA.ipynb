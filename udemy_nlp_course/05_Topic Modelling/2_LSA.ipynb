{
 "cells": [
  {
   "cell_type": "code",
   "execution_count": 1,
   "id": "6cc1321d-386f-4adf-9206-176ce18d5b38",
   "metadata": {},
   "outputs": [],
   "source": [
    "import pandas as pd\n",
    "import re\n",
    "from nltk.corpus import stopwords\n",
    "from nltk.tokenize import word_tokenize\n",
    "from nltk.stem import PorterStemmer\n",
    "from gensim import corpora\n",
    "from gensim.models import LsiModel\n",
    "from gensim.models.coherencemodel import CoherenceModel\n",
    "import matplotlib.pyplot as plt"
   ]
  },
  {
   "cell_type": "code",
   "execution_count": 2,
   "id": "0ee0e9fc-3b08-4d09-814a-e8089438f3a4",
   "metadata": {},
   "outputs": [],
   "source": [
    "data = pd.read_csv(\"news_articles.csv\")"
   ]
  },
  {
   "cell_type": "code",
   "execution_count": 3,
   "id": "8fba167a-9a88-46b0-b8d3-c83e0a6aafc5",
   "metadata": {},
   "outputs": [
    {
     "data": {
      "text/html": [
       "<div>\n",
       "<style scoped>\n",
       "    .dataframe tbody tr th:only-of-type {\n",
       "        vertical-align: middle;\n",
       "    }\n",
       "\n",
       "    .dataframe tbody tr th {\n",
       "        vertical-align: top;\n",
       "    }\n",
       "\n",
       "    .dataframe thead th {\n",
       "        text-align: right;\n",
       "    }\n",
       "</style>\n",
       "<table border=\"1\" class=\"dataframe\">\n",
       "  <thead>\n",
       "    <tr style=\"text-align: right;\">\n",
       "      <th></th>\n",
       "      <th>id</th>\n",
       "      <th>title</th>\n",
       "      <th>content</th>\n",
       "    </tr>\n",
       "  </thead>\n",
       "  <tbody>\n",
       "    <tr>\n",
       "      <th>0</th>\n",
       "      <td>25626</td>\n",
       "      <td>One Weight-Loss Approach Fits All? No, Not Eve...</td>\n",
       "      <td>Dr. Frank Sacks, a professor of nutrition at H...</td>\n",
       "    </tr>\n",
       "    <tr>\n",
       "      <th>1</th>\n",
       "      <td>19551</td>\n",
       "      <td>South Carolina Stuns Baylor to Reach the Round...</td>\n",
       "      <td>South Carolina’s win over   Duke was not only ...</td>\n",
       "    </tr>\n",
       "    <tr>\n",
       "      <th>2</th>\n",
       "      <td>25221</td>\n",
       "      <td>U.S. Presidential Race, Apple, Gene Wilder: Yo...</td>\n",
       "      <td>(Want to get this briefing by email? Here’s th...</td>\n",
       "    </tr>\n",
       "    <tr>\n",
       "      <th>3</th>\n",
       "      <td>18026</td>\n",
       "      <td>His Predecessor Gone, Gambia’s New President F...</td>\n",
       "      <td>BANJUL, Gambia  —   A week after he was inaugu...</td>\n",
       "    </tr>\n",
       "    <tr>\n",
       "      <th>4</th>\n",
       "      <td>21063</td>\n",
       "      <td>‘Harry Potter and the Cursed Child’ Goes From ...</td>\n",
       "      <td>The biggest book of the summer isn’t a blockbu...</td>\n",
       "    </tr>\n",
       "  </tbody>\n",
       "</table>\n",
       "</div>"
      ],
      "text/plain": [
       "      id                                              title  \\\n",
       "0  25626  One Weight-Loss Approach Fits All? No, Not Eve...   \n",
       "1  19551  South Carolina Stuns Baylor to Reach the Round...   \n",
       "2  25221  U.S. Presidential Race, Apple, Gene Wilder: Yo...   \n",
       "3  18026  His Predecessor Gone, Gambia’s New President F...   \n",
       "4  21063  ‘Harry Potter and the Cursed Child’ Goes From ...   \n",
       "\n",
       "                                             content  \n",
       "0  Dr. Frank Sacks, a professor of nutrition at H...  \n",
       "1  South Carolina’s win over   Duke was not only ...  \n",
       "2  (Want to get this briefing by email? Here’s th...  \n",
       "3  BANJUL, Gambia  —   A week after he was inaugu...  \n",
       "4  The biggest book of the summer isn’t a blockbu...  "
      ]
     },
     "execution_count": 3,
     "metadata": {},
     "output_type": "execute_result"
    }
   ],
   "source": [
    "data.head()\n"
   ]
  },
  {
   "cell_type": "code",
   "execution_count": 4,
   "id": "31d3a424-bd72-421e-93a4-fd87b6641089",
   "metadata": {},
   "outputs": [
    {
     "name": "stdout",
     "output_type": "stream",
     "text": [
      "<class 'pandas.core.frame.DataFrame'>\n",
      "RangeIndex: 100 entries, 0 to 99\n",
      "Data columns (total 3 columns):\n",
      " #   Column   Non-Null Count  Dtype \n",
      "---  ------   --------------  ----- \n",
      " 0   id       100 non-null    int64 \n",
      " 1   title    100 non-null    object\n",
      " 2   content  100 non-null    object\n",
      "dtypes: int64(1), object(2)\n",
      "memory usage: 2.5+ KB\n"
     ]
    }
   ],
   "source": [
    "data.info()"
   ]
  },
  {
   "cell_type": "markdown",
   "id": "b99643df-24be-43db-a360-4aad4d7e4f36",
   "metadata": {},
   "source": [
    "### Clean Data\n"
   ]
  },
  {
   "cell_type": "code",
   "execution_count": 5,
   "id": "625b1da2-9088-4aa7-ac1b-633e100fde20",
   "metadata": {},
   "outputs": [],
   "source": [
    "# take just the content of the article, lowercase and remove punctuation\n",
    "articles = data['content'].str.lower().apply(lambda x: re.sub(r\"([^\\w\\s])\", \"\", x))"
   ]
  },
  {
   "cell_type": "code",
   "execution_count": 6,
   "id": "8d747ec0-3d31-41da-9c8d-39d5785ec261",
   "metadata": {},
   "outputs": [],
   "source": [
    "# stop word removal\n",
    "en_stopwords = stopwords.words('english')\n",
    "articles = articles.apply(lambda x: ' '.join([word for word in x.split() if word not in (en_stopwords)]))"
   ]
  },
  {
   "cell_type": "code",
   "execution_count": 7,
   "id": "2993f79b-eeb9-4b00-863a-993a4053bce9",
   "metadata": {},
   "outputs": [],
   "source": [
    "# tokenize\n",
    "articles = articles.apply(lambda x: word_tokenize(x))"
   ]
  },
  {
   "cell_type": "code",
   "execution_count": 8,
   "id": "5d85ae20-05ca-4b59-a896-4e2dde7480ef",
   "metadata": {},
   "outputs": [],
   "source": [
    "# stemming (done for speed as we have a lot of text)\n",
    "ps = PorterStemmer()\n",
    "articles = articles.apply(lambda tokens: [ps.stem(token) for token in tokens])"
   ]
  },
  {
   "cell_type": "code",
   "execution_count": 9,
   "id": "f3c4cb02-46ab-4198-83ea-efa6d7fd72ef",
   "metadata": {},
   "outputs": [
    {
     "data": {
      "text/plain": [
       "0     [dr, frank, sack, professor, nutrit, harvard, ...\n",
       "1     [south, carolina, win, duke, surpris, fan, pos...\n",
       "2     [want, get, brief, email, here, good, even, he...\n",
       "3     [banjul, gambia, week, inaugur, anoth, countri...\n",
       "4     [biggest, book, summer, isnt, blockbust, thril...\n",
       "                            ...                        \n",
       "95    [want, get, brief, email, here, good, even, he...\n",
       "96    [tallinn, estonia, guard, brought, ahm, abdul,...\n",
       "97    [gov, scott, walker, wisconsin, activ, wiscons...\n",
       "98    [social, media, shook, emot, headlin, shout, n...\n",
       "99    [moment, joanna, acevedo, first, set, foot, bo...\n",
       "Name: content, Length: 100, dtype: object"
      ]
     },
     "execution_count": 9,
     "metadata": {},
     "output_type": "execute_result"
    }
   ],
   "source": [
    "articles"
   ]
  },
  {
   "cell_type": "markdown",
   "id": "472432cf-1b3c-430a-8230-ce47c4cb7626",
   "metadata": {},
   "source": [
    "### Vectorization"
   ]
  },
  {
   "cell_type": "code",
   "execution_count": 10,
   "id": "d9d45053-6d5e-4d23-8a8d-5e67b710cab8",
   "metadata": {},
   "outputs": [
    {
     "name": "stdout",
     "output_type": "stream",
     "text": [
      "Dictionary<8693 unique tokens: ['10', '100', '108', '15', '155']...>\n"
     ]
    }
   ],
   "source": [
    "# create dictionary of all words\n",
    "dictionary = corpora.Dictionary(articles)\n",
    "print(dictionary)"
   ]
  },
  {
   "cell_type": "code",
   "execution_count": 11,
   "id": "1fc0bd37-e8b1-4c79-a5d3-8b8c3491a70f",
   "metadata": {},
   "outputs": [],
   "source": [
    "# vecotize using bag of words into a document term matrix\n",
    "doc_term = [dictionary.doc2bow(text) for text in articles]"
   ]
  },
  {
   "cell_type": "markdown",
   "id": "8abfdf64-2fba-4832-bd31-27956aac5976",
   "metadata": {},
   "source": [
    "### LSA"
   ]
  },
  {
   "cell_type": "code",
   "execution_count": 12,
   "id": "6d02ee10-bd62-4aea-a2e0-f3466aaf2069",
   "metadata": {},
   "outputs": [],
   "source": [
    "# specify number of topics\n",
    "num_topics = 2"
   ]
  },
  {
   "cell_type": "code",
   "execution_count": 13,
   "id": "0b71d9ea-b560-4608-82f1-dac4cd3a9139",
   "metadata": {},
   "outputs": [
    {
     "name": "stdout",
     "output_type": "stream",
     "text": [
      "[(0, '0.615*\"mr\" + 0.429*\"said\" + 0.187*\"trump\" + 0.130*\"state\" + 0.119*\"would\"'), (1, '-0.537*\"mr\" + -0.319*\"trump\" + 0.286*\"said\" + 0.242*\"saudi\" + 0.142*\"weight\"')]\n"
     ]
    }
   ],
   "source": [
    "# create LSA model\n",
    "lsamodel = LsiModel(doc_term, num_topics=num_topics, id2word = dictionary) \n",
    "print(lsamodel.print_topics(num_topics=num_topics, num_words=5))"
   ]
  },
  {
   "cell_type": "markdown",
   "id": "73b88a81-68e5-44ab-b519-11d1969292de",
   "metadata": {},
   "source": [
    "### Determine Number of Topics"
   ]
  },
  {
   "cell_type": "code",
   "execution_count": 14,
   "id": "68c3f76e-1b7f-4573-8d52-5c506f4d4271",
   "metadata": {},
   "outputs": [],
   "source": [
    "# generate coherence scores to determine an optimum number of topics\n",
    "coherence_values = []\n",
    "model_list = []\n",
    "\n",
    "min_topics = 2\n",
    "max_topics = 11\n",
    "\n",
    "for num_topics_i in range(min_topics, max_topics+1):\n",
    "    model = LsiModel(doc_term, num_topics=num_topics_i, id2word = dictionary, random_seed=0)\n",
    "    model_list.append(model)\n",
    "    coherence_model = CoherenceModel(model=model, texts=articles, dictionary=dictionary, coherence='c_v')\n",
    "    coherence_values.append(coherence_model.get_coherence())"
   ]
  },
  {
   "cell_type": "code",
   "execution_count": 15,
   "id": "5be2647d-d3a4-46ae-89b4-a83f5bfc97b3",
   "metadata": {},
   "outputs": [
    {
     "data": {
      "image/png": "[encoded data removed]",
      "text/plain": [
       "<Figure size 640x480 with 1 Axes>"
      ]
     },
     "metadata": {},
     "output_type": "display_data"
    }
   ],
   "source": [
    "plt.plot(range(min_topics, max_topics+1), coherence_values)\n",
    "plt.xlabel(\"Number of Topics\")\n",
    "plt.ylabel(\"Coherence score\")\n",
    "plt.legend((\"coherence_values\"), loc='best')\n",
    "plt.show()"
   ]
  },
  {
   "cell_type": "code",
   "execution_count": 16,
   "id": "c3de2009-5888-4ca5-8780-6ab2234e97b4",
   "metadata": {},
   "outputs": [
    {
     "name": "stdout",
     "output_type": "stream",
     "text": [
      "[(0, '0.615*\"mr\" + 0.429*\"said\" + 0.187*\"trump\" + 0.130*\"state\" + 0.119*\"would\"'), (1, '-0.537*\"mr\" + -0.319*\"trump\" + 0.286*\"said\" + 0.242*\"saudi\" + 0.142*\"weight\"'), (2, '0.460*\"saudi\" + 0.264*\"taliban\" + -0.249*\"weight\" + 0.194*\"afghanistan\" + -0.191*\"dr\"')]\n"
     ]
    }
   ],
   "source": [
    "final_n_topics = 3\n",
    "lsamodel_f = LsiModel(doc_term, num_topics=final_n_topics, id2word = dictionary) \n",
    "print(lsamodel_f.print_topics(num_topics=final_n_topics, num_words=5))"
   ]
  },
  {
   "cell_type": "code",
   "execution_count": null,
   "id": "7a9ec62c-6b85-42cd-8e49-acb9e6ed528a",
   "metadata": {},
   "outputs": [],
   "source": []
  }
 ],
 "metadata": {
  "kernelspec": {
   "display_name": "nlp_course_env",
   "language": "python",
   "name": "nlp_course_env"
  },
  "language_info": {
   "codemirror_mode": {
    "name": "ipython",
    "version": 3
   },
   "file_extension": ".py",
   "mimetype": "text/x-python",
   "name": "python",
   "nbconvert_exporter": "python",
   "pygments_lexer": "ipython3",
   "version": "3.11.13"
  }
 },
 "nbformat": 4,
 "nbformat_minor": 5
}
