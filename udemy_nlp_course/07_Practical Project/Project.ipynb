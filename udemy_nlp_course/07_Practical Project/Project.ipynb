{
 "cells": [
  {
   "cell_type": "markdown",
   "id": "da50f5aa-3474-4924-b07e-32052cb7778d",
   "metadata": {},
   "source": [
    "### Setting the Scene"
   ]
  },
  {
   "cell_type": "markdown",
   "id": "2eee72ab-50fc-4784-ac0f-e19695a08c6c",
   "metadata": {},
   "source": [
    "#### Imagine you are working for a social media company. The company is concerned with the growing amount of fake news circulatng on it's platform. They have assigned you to investigate how fake news can be recognized and create a method of identifying it. Let's work through this problem together, first by exploring and cleaning the data and then working to classify fake vs factual news stories. We'll also create some plots of our outputs and discuss how we would communicate our findings to stakeholders."
   ]
  },
  {
   "cell_type": "code",
   "execution_count": null,
   "id": "0c86aa3c-08ba-4e83-8f09-681eeb97b87e",
   "metadata": {},
   "outputs": [],
   "source": []
  }
 ],
 "metadata": {
  "kernelspec": {
   "display_name": "nlp_course_env",
   "language": "python",
   "name": "nlp_course_env"
  },
  "language_info": {
   "codemirror_mode": {
    "name": "ipython",
    "version": 3
   },
   "file_extension": ".py",
   "mimetype": "text/x-python",
   "name": "python",
   "nbconvert_exporter": "python",
   "pygments_lexer": "ipython3",
   "version": "3.11.13"
  }
 },
 "nbformat": 4,
 "nbformat_minor": 5
}
