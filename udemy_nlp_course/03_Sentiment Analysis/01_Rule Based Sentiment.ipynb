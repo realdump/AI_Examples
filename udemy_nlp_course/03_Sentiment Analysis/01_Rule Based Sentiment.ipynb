{
 "cells": [
  {
   "cell_type": "code",
   "execution_count": 1,
   "id": "eeb8efdb-10c5-46ee-89c7-1042dc7000fd",
   "metadata": {},
   "outputs": [],
   "source": [
    "sentence_1 = \"i had a great time at the movie it was really funny\"\n",
    "sentence_2 = \"i had a great time at the movie but the parking was terrible\"\n",
    "sentence_3 = \"i had a great time at the movie but the parking wasn't great\"\n",
    "sentence_4 = \"i went to see a movie\""
   ]
  },
  {
   "cell_type": "markdown",
   "id": "7d0f19b6-82a4-4c7f-8a6e-6a2f7e77ded1",
   "metadata": {},
   "source": [
    "## TextBlob"
   ]
  },
  {
   "cell_type": "code",
   "execution_count": 2,
   "id": "90bd3a03-7043-45c2-b813-ab4ef55a5c41",
   "metadata": {},
   "outputs": [],
   "source": [
    "from textblob import TextBlob"
   ]
  },
  {
   "cell_type": "code",
   "execution_count": 4,
   "id": "498893b5-6052-41af-9970-7526a588cbc0",
   "metadata": {},
   "outputs": [
    {
     "name": "stdout",
     "output_type": "stream",
     "text": [
      "i had a great time at the movie it was really funny\n",
      "0.525\n"
     ]
    }
   ],
   "source": [
    "print(sentence_1)\n",
    "sentiment_score_1 = TextBlob(sentence_1)\n",
    "print(sentiment_score_1.sentiment.polarity)"
   ]
  },
  {
   "cell_type": "code",
   "execution_count": 5,
   "id": "5d609b46-a9bf-4c99-b4f0-f1fa408f6314",
   "metadata": {},
   "outputs": [
    {
     "name": "stdout",
     "output_type": "stream",
     "text": [
      "i had a great time at the movie but the parking was terrible\n",
      "-0.09999999999999998\n"
     ]
    }
   ],
   "source": [
    "print(sentence_2)\n",
    "sentiment_score_2 = TextBlob(sentence_2)\n",
    "print(sentiment_score_2.sentiment.polarity)"
   ]
  },
  {
   "cell_type": "code",
   "execution_count": 6,
   "id": "d2d72cb4-bc2e-4742-84f5-b6b83e9f0b4f",
   "metadata": {},
   "outputs": [
    {
     "name": "stdout",
     "output_type": "stream",
     "text": [
      "i had a great time at the movie but the parking wasn't great\n",
      "0.8\n"
     ]
    }
   ],
   "source": [
    "print(sentence_3)\n",
    "sentiment_score_3 = TextBlob(sentence_3)\n",
    "print(sentiment_score_3.sentiment.polarity)"
   ]
  },
  {
   "cell_type": "code",
   "execution_count": 7,
   "id": "4fabc2bc-3bae-4457-861a-f7d9ce6dfbc5",
   "metadata": {},
   "outputs": [
    {
     "name": "stdout",
     "output_type": "stream",
     "text": [
      "i went to see a movie\n",
      "0.0\n"
     ]
    }
   ],
   "source": [
    "print(sentence_4)\n",
    "sentiment_score_4 = TextBlob(sentence_4)\n",
    "print(sentiment_score_4.sentiment.polarity)"
   ]
  },
  {
   "cell_type": "markdown",
   "id": "49ab7b51-7565-4878-85be-173355765235",
   "metadata": {},
   "source": [
    "## VADER"
   ]
  },
  {
   "cell_type": "code",
   "execution_count": 13,
   "id": "015e41a4-008a-472f-93e7-1f9e62586ef8",
   "metadata": {},
   "outputs": [],
   "source": [
    "from vaderSentiment.vaderSentiment import SentimentIntensityAnalyzer"
   ]
  },
  {
   "cell_type": "code",
   "execution_count": 14,
   "id": "b0a62b0d-8a4a-4430-a48e-12bcd271d0f9",
   "metadata": {},
   "outputs": [],
   "source": [
    "vader_sentiment = SentimentIntensityAnalyzer()"
   ]
  },
  {
   "cell_type": "code",
   "execution_count": 15,
   "id": "28cb1674-651c-4ff6-9d3c-e989d9f7816f",
   "metadata": {},
   "outputs": [
    {
     "name": "stdout",
     "output_type": "stream",
     "text": [
      "i had a great time at the movie it was really funny\n",
      "{'neg': 0.0, 'neu': 0.578, 'pos': 0.422, 'compound': 0.807}\n"
     ]
    }
   ],
   "source": [
    "print(sentence_1)\n",
    "print(vader_sentiment.polarity_scores(sentence_1))"
   ]
  },
  {
   "cell_type": "code",
   "execution_count": 16,
   "id": "15287903-150b-429a-85d3-7fa9b4770779",
   "metadata": {},
   "outputs": [
    {
     "name": "stdout",
     "output_type": "stream",
     "text": [
      "i had a great time at the movie but the parking was terrible\n",
      "{'neg': 0.234, 'neu': 0.621, 'pos': 0.144, 'compound': -0.3818}\n"
     ]
    }
   ],
   "source": [
    "print(sentence_2)\n",
    "print(vader_sentiment.polarity_scores(sentence_2))"
   ]
  },
  {
   "cell_type": "code",
   "execution_count": 17,
   "id": "b71deda8-0729-4d95-89fd-9f4182e81af2",
   "metadata": {},
   "outputs": [
    {
     "name": "stdout",
     "output_type": "stream",
     "text": [
      "i had a great time at the movie but the parking wasn't great\n",
      "{'neg': 0.247, 'neu': 0.611, 'pos': 0.142, 'compound': -0.4387}\n"
     ]
    }
   ],
   "source": [
    "print(sentence_3)\n",
    "print(vader_sentiment.polarity_scores(sentence_3))"
   ]
  },
  {
   "cell_type": "code",
   "execution_count": 18,
   "id": "c9fd5a71-f250-4f5b-b1ee-b091aab26f09",
   "metadata": {},
   "outputs": [
    {
     "name": "stdout",
     "output_type": "stream",
     "text": [
      "i went to see a movie\n",
      "{'neg': 0.0, 'neu': 1.0, 'pos': 0.0, 'compound': 0.0}\n"
     ]
    }
   ],
   "source": [
    "print(sentence_4)\n",
    "print(vader_sentiment.polarity_scores(sentence_4))"
   ]
  },
  {
   "cell_type": "code",
   "execution_count": null,
   "id": "c45d64f9-56c6-4182-ad30-98053e6e133e",
   "metadata": {},
   "outputs": [],
   "source": []
  }
 ],
 "metadata": {
  "kernelspec": {
   "display_name": "nlp_course_env",
   "language": "python",
   "name": "nlp_course_env"
  },
  "language_info": {
   "codemirror_mode": {
    "name": "ipython",
    "version": 3
   },
   "file_extension": ".py",
   "mimetype": "text/x-python",
   "name": "python",
   "nbconvert_exporter": "python",
   "pygments_lexer": "ipython3",
   "version": "3.11.13"
  }
 },
 "nbformat": 4,
 "nbformat_minor": 5
}
